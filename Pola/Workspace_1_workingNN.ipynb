{
  "nbformat": 4,
  "nbformat_minor": 0,
  "metadata": {
    "colab": {
      "name": "Workspace_1_workingNN.ipynb",
      "version": "0.3.2",
      "provenance": [],
      "collapsed_sections": [],
      "toc_visible": true,
      "include_colab_link": true
    },
    "kernelspec": {
      "name": "python3",
      "display_name": "Python 3"
    },
    "accelerator": "GPU"
  },
  "cells": [
    {
      "cell_type": "markdown",
      "metadata": {
        "id": "view-in-github",
        "colab_type": "text"
      },
      "source": [
        "<a href=\"https://colab.research.google.com/github/Alop1/AI_random_forest/blob/master/Pola/Workspace_1_workingNN.ipynb\" target=\"_parent\"><img src=\"https://colab.research.google.com/assets/colab-badge.svg\" alt=\"Open In Colab\"/></a>"
      ]
    },
    {
      "metadata": {
        "id": "8nx7mo1JCC22",
        "colab_type": "code",
        "colab": {}
      },
      "cell_type": "code",
      "source": [
        "import tensorflow as tf\n",
        "\n",
        "# Helper libraries\n",
        "import matplotlib.pyplot as plt\n",
        "import numpy as np\n",
        "from sklearn.model_selection import train_test_split"
      ],
      "execution_count": 0,
      "outputs": []
    },
    {
      "metadata": {
        "id": "QmLtAzxg3jc8",
        "colab_type": "code",
        "outputId": "2adf3745-30dd-4bbb-c82e-dfb064a15f1f",
        "colab": {
          "base_uri": "https://localhost:8080/",
          "height": 35
        }
      },
      "cell_type": "code",
      "source": [
        "device_name = tf.test.gpu_device_name()\n",
        "if device_name != '/device:GPU:0':\n",
        "  raise SystemError('GPU device not found')\n",
        "print('Found GPU at: {}'.format(device_name))"
      ],
      "execution_count": 2,
      "outputs": [
        {
          "output_type": "stream",
          "text": [
            "Found GPU at: /device:GPU:0\n"
          ],
          "name": "stdout"
        }
      ]
    },
    {
      "metadata": {
        "id": "4hijZ7SlUARA",
        "colab_type": "code",
        "outputId": "da09d650-b4a1-4718-b185-20e4988d4280",
        "colab": {
          "base_uri": "https://localhost:8080/",
          "height": 35
        }
      },
      "cell_type": "code",
      "source": [
        "from google.colab import drive\n",
        "drive.mount('/content/gdrive')"
      ],
      "execution_count": 3,
      "outputs": [
        {
          "output_type": "stream",
          "text": [
            "Drive already mounted at /content/gdrive; to attempt to forcibly remount, call drive.mount(\"/content/gdrive\", force_remount=True).\n"
          ],
          "name": "stdout"
        }
      ]
    },
    {
      "metadata": {
        "id": "Fa13Uq6IO1Cd",
        "colab_type": "code",
        "outputId": "e78760ad-63ec-44cd-f3b1-6c39da510b1e",
        "colab": {
          "base_uri": "https://localhost:8080/",
          "height": 35
        }
      },
      "cell_type": "code",
      "source": [
        "!ls\n",
        "!cd '/content/gdrive/My Drive/FailOmen'"
      ],
      "execution_count": 4,
      "outputs": [
        {
          "output_type": "stream",
          "text": [
            "gdrive\tsample_data\n"
          ],
          "name": "stdout"
        }
      ]
    },
    {
      "metadata": {
        "id": "62-iybQU_Yw7",
        "colab_type": "code",
        "colab": {}
      },
      "cell_type": "code",
      "source": [
        "import pandas as pd\n",
        "\n",
        "#Importing dataset\n",
        "dataset = pd.read_csv('/content/gdrive/My Drive/FailOmen/convertDataToML.csv', index_col=False)"
      ],
      "execution_count": 0,
      "outputs": []
    },
    {
      "metadata": {
        "id": "um1FNlpf_zOE",
        "colab_type": "code",
        "colab": {}
      },
      "cell_type": "code",
      "source": [
        "x = dataset.iloc[:, 0:23739].values\n",
        "y = dataset.iloc[:, 23739:24281].values"
      ],
      "execution_count": 0,
      "outputs": []
    },
    {
      "metadata": {
        "id": "E2IOOl-qangL",
        "colab_type": "code",
        "colab": {}
      },
      "cell_type": "code",
      "source": [
        "failCount = 0\n",
        "passCount = 0\n",
        "failBuildCount = 0\n",
        "\n",
        "for a in y:\n",
        "  if a[np.argmin(a)] == 0 : failBuildCount += 1\n",
        "  for b in a:\n",
        "    if b == 0 : failCount += 1\n",
        "    if b == 1 : passCount += 1\n",
        "print (failBuildCount)\n",
        "print (failCount)\n",
        "print (passCount)\n",
        "print (failCount / passCount * 100, '%', sep='')"
      ],
      "execution_count": 0,
      "outputs": []
    },
    {
      "metadata": {
        "id": "RLRrKfR-bL1j",
        "colab_type": "code",
        "colab": {}
      },
      "cell_type": "code",
      "source": [
        ""
      ],
      "execution_count": 0,
      "outputs": []
    },
    {
      "metadata": {
        "id": "0MgA1hV7Ljoe",
        "colab_type": "text"
      },
      "cell_type": "markdown",
      "source": [
        "## **UTILITIES:**\n",
        "\n",
        "\n",
        "---"
      ]
    },
    {
      "metadata": {
        "id": "PlhSJE1hLbl3",
        "colab_type": "code",
        "colab": {}
      },
      "cell_type": "code",
      "source": [
        "def count_distribution(prediction):\n",
        "  #Distributions of argmins through all the predictions\n",
        "  i = 1\n",
        "  tab = [0] * 542\n",
        "  for a in prediction:\n",
        "    j = 0\n",
        "    for b in a:\n",
        "      if b < 1.0 : j = j + 1\n",
        "\n",
        "    #print (i, '. ', j, np.argmin(a))\n",
        "    tab[np.argmin(a)] += 1\n",
        "    i = i + 1\n",
        "\n",
        "  i = 0\n",
        "  number_of_tests =  542\n",
        "  distributed_array = [0 for iterator in range(number_of_tests)]\n",
        "  for a in tab:\n",
        "    if a > 0 : \n",
        "      pass\n",
        "#       print ('position', i, '\\targmin count', a)\n",
        "      distributed_array[i] = a\n",
        "    i += 1\n",
        "#   print (i)\n",
        "  create_plot(range(len(distributed_array)), distributed_array)  \n",
        "  return distributed_array\n"
      ],
      "execution_count": 0,
      "outputs": []
    },
    {
      "metadata": {
        "id": "69cYXEP18fPe",
        "colab_type": "code",
        "colab": {}
      },
      "cell_type": "code",
      "source": [
        "def create_plot(x_data, y_data=0):\n",
        "  import matplotlib.pyplot as plt\n",
        "  if y_data == 0:  \n",
        "    unzip = list(zip(*x_data))\n",
        "    x_data, y_data = unzip[0],unzip[1]\n",
        "    print (x_data)\n",
        "    print (\"\\n\", y_data)\n",
        "  \n",
        "  plt.bar(x_data, y_data, align='center', alpha=1, width = 3)\n",
        "  plt.xlabel(\"test no\")\n",
        "  plt.ylabel(\"how many times test was predicted as probably failed\")\n",
        "  plt.show()"
      ],
      "execution_count": 0,
      "outputs": []
    },
    {
      "metadata": {
        "id": "tLkzhHugfFWP",
        "colab_type": "text"
      },
      "cell_type": "markdown",
      "source": [
        "uwaga, w funkcji ponizej searchForFailed(), w wyborze dodania spassowanych testow do trainig/testing set-a, mino ze podajemy dokladny procent z spassowanych danych jaki chcemy wykorzysatc, procet ten moze sie roznic w rzeczywistosci. Spowodowane jest to warunkiem modulo, np 20% bedzie 20%, 90% bedzie 100% \n",
        "\n",
        " "
      ]
    },
    {
      "metadata": {
        "id": "1nOPoXfbcQ0p",
        "colab_type": "code",
        "colab": {}
      },
      "cell_type": "code",
      "source": [
        ""
      ],
      "execution_count": 0,
      "outputs": []
    },
    {
      "metadata": {
        "id": "ECE6fYlxLxZY",
        "colab_type": "code",
        "colab": {}
      },
      "cell_type": "code",
      "source": [
        "def searchForFailed(yList, percent_of_passed_data=20, withpassed_data=False): \n",
        "  changedRowList = []\n",
        "  period_counter_for_passedData = 0\n",
        "  for row in range (len(yList)):\n",
        "    if 0 in yList[row]:\n",
        "      changedRowList.append(row)\n",
        "      continue\n",
        "    elif withpassed_data == True: \n",
        "      modulo_arg = int(1/(percent_of_passed_data/100))\n",
        "      if not (period_counter_for_passedData%modulo_arg):\n",
        "        changedRowList.append(row)\n",
        "    period_counter_for_passedData += 1\n",
        "      \n",
        "  return changedRowList\n",
        "\n",
        "def returnFailedData(xList, yList, changedRowList):\n",
        "  xFailed = []\n",
        "  yFailed = []\n",
        "  \n",
        "  for row in changedRowList:\n",
        "    xFailed.append(xList[row])\n",
        "    yFailed.append(yList[row])\n",
        "  xFailed = np.array(xFailed)\n",
        "  yFailed = np.array(yFailed)\n",
        "  return xFailed, yFailed"
      ],
      "execution_count": 0,
      "outputs": []
    },
    {
      "metadata": {
        "id": "QvZssrz2aDHg",
        "colab_type": "code",
        "colab": {}
      },
      "cell_type": "code",
      "source": [
        "def failsCount():\n",
        "  fala = 0\n",
        "  for i, a in enumerate(yTest):\n",
        "    j = 0\n",
        "    for k, b in enumerate(a):\n",
        "      if b < 1.0 : j += 1\n",
        "\n",
        "    if j > 0 : \n",
        "      print (i, '. ', j)\n",
        "    i = i + 1\n",
        "    fala += j\n",
        "  print (fala)"
      ],
      "execution_count": 0,
      "outputs": []
    },
    {
      "metadata": {
        "id": "OXtv0HaDaEoM",
        "colab_type": "code",
        "colab": {}
      },
      "cell_type": "code",
      "source": [
        "# Evaluation function\n",
        "\n",
        "def evaluation(predictions,additionalPredictions, refYsupervisor):\n",
        "  \n",
        "  lenght = len(refYsupervisor)\n",
        "\n",
        "  failPositions = [[] for y in range(lenght)]\n",
        "\n",
        "  for i, a in enumerate(refYsupervisor):\n",
        "\n",
        "    for j, b in enumerate(a):\n",
        "      if b == 0 : failPositions[i].append(j);#spisuje w listach(per commit) pozycje, gdzie sfailowal test [3,78,90, itp]\n",
        "\n",
        "  predictionsTemp = predictions.copy()#tablica list, w ktotej sa przedstawione prawd wystapienia danej labeliki\n",
        "  # todo \n",
        "  #prediction_real byl juz listo po powrotnym mapowaniu, zlozona z testow (czyli ich indeksami 1-542)do sailowania , od najbardziej prawdopodobnych do najmniej \n",
        "  \n",
        "  \n",
        "#   print(predictionsTemp) \n",
        "#   print(type(predictionsTemp))\n",
        "#   print(len(predictionsTemp))\n",
        "#   print(predictionsTemp[0])\n",
        "#   print(predictionsTemp[0][0])\n",
        "  predictionPositions = [[] for y in range(lenght)]\n",
        "\n",
        "\n",
        "  for i, commit in enumerate(predictionsTemp):\n",
        "\n",
        "    if len(failPositions[i]) != 0:#jezeli w danym commicie byl wh jakis blad\n",
        "      for j in range(len(failPositions[i]) + additionalPredictions):#tyle razy co sfailowanych testow + dodatkowe, przez nas zdefiniowane\n",
        "        argmin = np.argmin(commit)# argmin = jest indeksem najmniejsza wartoscia dla predykcji sieci , czyt. indexem najbardziej prawdopodobnej\n",
        "        predictionPositions[i].append(argmin)#umiesc index tej  najbardziej prawdopodobna wartosc, w tab dla danego komitu \n",
        "        predictionsTemp[i][argmin] = 1#nie berz pod uwage juz tej wartosci\n",
        "\n",
        "  predictionHits = [[] for y in range(lenght)]\n",
        "\n",
        "  for i, a in enumerate(failPositions):\n",
        "    count = 0\n",
        "    for j, b in enumerate(a):\n",
        "\n",
        "\n",
        "      for c in predictionPositions[i]:\n",
        "  #      predictionHits[i].append(predictions[i][c].copy())\n",
        "  #      print(predictions[i][c])\n",
        "  #      print(predictions[i][c])\n",
        "  #      print (b, c)\n",
        "        if c == b : count += 1\n",
        "\n",
        "    if len(failPositions) != 0:\n",
        "      predictionHits[i].insert(0,count)\n",
        "\n",
        "\n",
        "  failsCount = 0\n",
        "  hitsCount = 0\n",
        "  for i, a in enumerate(refYsupervisor):\n",
        "    j = 0\n",
        "\n",
        "    for k, b in enumerate(a):\n",
        "      if b < 1.0 : j += 1\n",
        "\n",
        "  #  if j > 0 :\n",
        "  #    print (i, '.', j, predictionHits[i])\n",
        "\n",
        "\n",
        "    failsCount += j\n",
        "    hitsCount += predictionHits[i][0]\n",
        "\n",
        "  print('Percentage of fails predicted', hitsCount / failsCount * 100, '%')"
      ],
      "execution_count": 0,
      "outputs": []
    },
    {
      "metadata": {
        "id": "42wJQ7P4izbr",
        "colab_type": "code",
        "colab": {}
      },
      "cell_type": "code",
      "source": [
        "def listSingleMemberClassesPositions(refY, printFlag):\n",
        "\n",
        "  yList = refY.tolist()\n",
        "  print (len(yList))\n",
        "  yDistinct = [ele for ind, ele in enumerate(yList) if ele not in yList[:ind]]\n",
        "\n",
        "  classesPopulation = []\n",
        "  singleMemberClassesPositions = []\n",
        "  noSingleMemberClasses = 0\n",
        "\n",
        "  for i, a in enumerate(yDistinct):\n",
        "    population = 0\n",
        "    memberPosition = 0\n",
        "    for j, b in enumerate(yList):\n",
        "      if a == b: \n",
        "        population += 1\n",
        "        memberPosition = j\n",
        "\n",
        "    classesPopulation.append(population)\n",
        "  #  print(i, population)\n",
        "    if population == 1: \n",
        "      noSingleMemberClasses += 1\n",
        "      singleMemberClassesPositions.append(memberPosition)\n",
        "\n",
        "  if printFlag == True: \n",
        "    print(noSingleMemberClasses)\n",
        "  else:\n",
        "    return singleMemberClassesPositions\n",
        "  \n"
      ],
      "execution_count": 0,
      "outputs": []
    },
    {
      "metadata": {
        "id": "jIhEbtA9Lr6J",
        "colab_type": "text"
      },
      "cell_type": "markdown",
      "source": [
        "\n",
        "\n",
        "---\n",
        "\n",
        "\n",
        "\n",
        "---\n",
        "\n",
        "\n",
        "\n",
        "---\n",
        "\n"
      ]
    },
    {
      "metadata": {
        "id": "mskKtPb0R8CQ",
        "colab_type": "text"
      },
      "cell_type": "markdown",
      "source": [
        "## **PREPARE DATA**"
      ]
    },
    {
      "metadata": {
        "id": "Y8s22Fdfom-6",
        "colab_type": "code",
        "colab": {}
      },
      "cell_type": "code",
      "source": [
        "#xTrain, xTest, yTrain, yTest = train_test_split(x, y, test_size = 0.2)"
      ],
      "execution_count": 0,
      "outputs": []
    },
    {
      "metadata": {
        "id": "3jk2OI_yantC",
        "colab_type": "code",
        "colab": {}
      },
      "cell_type": "code",
      "source": [
        ""
      ],
      "execution_count": 0,
      "outputs": []
    },
    {
      "metadata": {
        "id": "utDW-luFOIML",
        "colab_type": "text"
      },
      "cell_type": "markdown",
      "source": [
        "**(optional) create only 'failed data'**"
      ]
    },
    {
      "metadata": {
        "id": "BXVlPwABOPnB",
        "colab_type": "code",
        "colab": {
          "base_uri": "https://localhost:8080/",
          "height": 35
        },
        "outputId": "cf976457-80ec-4560-dc8c-2e46e5b21a38"
      },
      "cell_type": "code",
      "source": [
        "import numpy\n",
        "xReduced, yReduced = returnFailedData(x, y, searchForFailed(y,percent_of_passed_data=1,withpassed_data=True))\n",
        "print ('type', type(yReduced[0]))\n",
        "\n",
        "yReduced_temp = yReduced.tolist()\n",
        "real_classes = [(ele) for ind, ele in enumerate(yReduced_temp) if ele not in yReduced_temp[:ind]]\n",
        "nn_classes = []\n",
        "\n",
        "# # create nn_classes\n",
        "# for i in range(542):\n",
        "#   temp_nn_class = [1 for iterator in range(542)]\n",
        "#   temp_nn_class[i] = 0\n",
        "#   nn_classes.append(temp_nn_class)  \n",
        "# # create mapper  \n",
        "# class_mapper = []\n",
        "# i = 0 \n",
        "\n",
        "# # create mapper\n",
        "# class_mapper = [tuple((real_class, nn_classes[i])) for i, real_class in enumerate(real_classes)]\n",
        "\n",
        "\n",
        "# print(class_mapper[1][1])\n",
        "# # create new supervisor  \n",
        "# temp_mapped_supervisor = []  \n",
        "# for real_row in yReduced_temp:\n",
        "#   for mapper_row in class_mapper:\n",
        "#     if real_row == mapper_row[0]:\n",
        "#       temp_mapped_supervisor.append(mapper_row[1])\n",
        "      \n",
        "# #map to numpy array      \n",
        "# mapped_supervisor=numpy.array([numpy.array(xi) for xi in temp_mapped_supervisor])\n",
        "  \n",
        "    \n",
        "\n",
        "# xReduced, yReduced = returnFailedData(x, y, searchForFailed(y))\n",
        "from sklearn.model_selection import train_test_split\n",
        "xTrain, xTest, yTrain, yTest = train_test_split(xReduced, yReduced, test_size = 0.2)"
      ],
      "execution_count": 15,
      "outputs": [
        {
          "output_type": "stream",
          "text": [
            "type <class 'numpy.ndarray'>\n"
          ],
          "name": "stdout"
        }
      ]
    },
    {
      "metadata": {
        "id": "ij4dnucNcOKp",
        "colab_type": "code",
        "colab": {}
      },
      "cell_type": "code",
      "source": [
        ""
      ],
      "execution_count": 0,
      "outputs": []
    },
    {
      "metadata": {
        "id": "4KblPqI5jSQf",
        "colab_type": "code",
        "colab": {
          "base_uri": "https://localhost:8080/",
          "height": 74
        },
        "outputId": "01d11c9c-45fb-4848-e920-fce80bd53af3"
      },
      "cell_type": "code",
      "source": [
        "def listSingleMemberClassesPositions(refY, printFlag):\n",
        "  \n",
        "\n",
        "  yList = refY.tolist()#dalej maciez tylko jako lista\n",
        "  yDistinct = [(ele) for ind, ele in enumerate(yList) if ele not in yList[:ind]]#tablica vektorow gdzie jest cos nowego \n",
        "#   print(len(yDistinct[0]))# pojedynczy kommit  nie powtarzajacy sie juz pozniej \n",
        "  print(\"liczba 'klas'\", len(yDistinct))\n",
        "  \n",
        "  data_for_directory = []\n",
        "  classesPopulation = []\n",
        "  singleMemberClassesPositions = []\n",
        "  noSingleMemberClasses = 0\n",
        "\n",
        "  for i, a in enumerate(yDistinct):\n",
        "    population = 0\n",
        "    memberPosition = 0\n",
        "    for j, b in enumerate(yList):\n",
        "      if a == b: \n",
        "        population += 1\n",
        "        memberPosition = j\n",
        "\n",
        "    classesPopulation.append(population)\n",
        "  #  print(i, population)\n",
        "    if population == 1:\n",
        "      ids_in_single_popul  = [idx for idx, ele in enumerate(a) if ele == 0]\n",
        "      data_for_directory.append(ids_in_single_popul)\n",
        "      noSingleMemberClasses += 1\n",
        "      singleMemberClassesPositions.append(memberPosition)\n",
        "      \n",
        "  ids_for_class= []    \n",
        "  for i in range(0,len(data_for_directory)):\n",
        "    if i == 0:\n",
        "      ids_for_class = data_for_directory[i]\n",
        "    ids_for_class += list(set(data_for_directory[i])- set(ids_for_class))\n",
        " \n",
        " \n",
        "\n",
        "  if printFlag == True: \n",
        "    print(noSingleMemberClasses)\n",
        "  else: \n",
        "    return (singleMemberClassesPositions,ids_for_class)\n",
        "  \n",
        "info = listSingleMemberClassesPositions(yTrain, False)#czy to sa numery klas (w naszym przypadku testow,) czy numery komitow gdzie tylko jeden test sfailowal => to drugie numery kommitow\n",
        "  \n",
        "def create_weights_dict(yTrain, info):\n",
        "  basic_class_weights = {}\n",
        "  \n",
        "  basic_class_weights = {i:1. for i in range(len(yTest))}\n",
        "  \n",
        "  for ids in info[1]:\n",
        "    basic_class_weights[ids] = 5\n",
        "  print(basic_class_weights)\n",
        "  return basic_class_weights\n",
        "\n",
        " \n",
        "  \n",
        "class_weights = create_weights_dict(yTrain, info)\n",
        "  "
      ],
      "execution_count": 16,
      "outputs": [
        {
          "output_type": "stream",
          "text": [
            "liczba 'klas' 261\n",
            "{0: 1.0, 1: 5, 2: 5, 3: 5, 4: 5, 5: 1.0, 6: 5, 7: 1.0, 8: 1.0, 9: 1.0, 10: 1.0, 11: 5, 12: 1.0, 13: 1.0, 14: 1.0, 15: 5, 16: 5, 17: 1.0, 18: 1.0, 19: 1.0, 20: 1.0, 21: 1.0, 22: 1.0, 23: 1.0, 24: 5, 25: 1.0, 26: 1.0, 27: 1.0, 28: 1.0, 29: 1.0, 30: 5, 31: 1.0, 32: 5, 33: 1.0, 34: 1.0, 35: 1.0, 36: 1.0, 37: 1.0, 38: 1.0, 39: 1.0, 40: 1.0, 41: 5, 42: 1.0, 43: 1.0, 44: 1.0, 45: 1.0, 46: 1.0, 47: 5, 48: 1.0, 49: 1.0, 50: 1.0, 51: 1.0, 52: 1.0, 53: 1.0, 54: 1.0, 55: 5, 56: 1.0, 57: 1.0, 58: 1.0, 59: 5, 60: 1.0, 61: 1.0, 62: 5, 63: 1.0, 64: 5, 65: 1.0, 66: 5, 67: 5, 68: 5, 69: 1.0, 70: 5, 71: 5, 72: 5, 73: 5, 74: 5, 75: 5, 76: 5, 77: 1.0, 78: 5, 79: 5, 80: 1.0, 81: 5, 82: 1.0, 83: 1.0, 84: 1.0, 85: 1.0, 86: 1.0, 87: 1.0, 88: 5, 89: 5, 90: 5, 91: 5, 92: 5, 93: 1.0, 94: 5, 95: 5, 96: 5, 97: 5, 98: 1.0, 99: 1.0, 100: 1.0, 101: 1.0, 102: 5, 103: 1.0, 104: 5, 105: 1.0, 106: 1.0, 107: 5, 108: 1.0, 109: 1.0, 110: 1.0, 111: 1.0, 112: 1.0, 113: 1.0, 114: 1.0, 115: 1.0, 116: 1.0, 117: 5, 118: 5, 119: 5, 120: 5, 121: 5, 122: 1.0, 123: 1.0, 124: 1.0, 125: 1.0, 126: 1.0, 127: 1.0, 128: 5, 129: 5, 130: 1.0, 131: 5, 132: 5, 133: 1.0, 134: 1.0, 281: 5, 282: 5, 283: 5, 284: 5, 298: 5, 299: 5, 490: 5, 463: 5, 530: 5, 515: 5, 301: 5, 462: 5, 249: 5, 338: 5, 170: 5, 140: 5, 141: 5, 268: 5, 494: 5, 429: 5, 513: 5, 323: 5, 333: 5, 246: 5, 493: 5, 340: 5, 169: 5, 504: 5, 489: 5, 507: 5, 202: 5, 148: 5, 198: 5, 320: 5, 344: 5, 347: 5, 470: 5, 417: 5, 258: 5, 309: 5, 220: 5, 501: 5, 197: 5, 420: 5, 517: 5, 521: 5, 466: 5, 242: 5, 413: 5, 182: 5, 479: 5, 195: 5, 204: 5, 465: 5, 137: 5, 206: 5, 244: 5, 228: 5, 222: 5, 145: 5, 200: 5, 456: 5, 505: 5, 363: 5, 185: 5, 248: 5, 243: 5, 335: 5, 285: 5, 341: 5, 457: 5, 503: 5, 187: 5, 184: 5, 214: 5, 286: 5, 500: 5, 492: 5, 181: 5, 208: 5, 488: 5, 491: 5, 336: 5, 337: 5, 307: 5, 308: 5, 210: 5, 332: 5, 224: 5, 422: 5, 302: 5, 399: 5, 218: 5, 288: 5, 468: 5, 215: 5, 223: 5, 531: 5, 312: 5, 311: 5, 247: 5, 191: 5, 511: 5, 251: 5, 260: 5, 239: 5, 241: 5, 151: 5, 293: 5, 522: 5, 398: 5, 263: 5, 328: 5, 193: 5, 183: 5, 331: 5, 334: 5, 315: 5, 317: 5, 319: 5, 250: 5, 469: 5, 142: 5, 519: 5, 256: 5, 345: 5, 346: 5, 532: 5, 176: 5, 143: 5, 177: 5, 261: 5, 199: 5, 225: 5, 221: 5, 314: 5, 520: 5, 431: 5, 149: 5, 358: 5, 518: 5, 343: 5, 252: 5, 245: 5, 313: 5, 306: 5, 471: 5, 449: 5, 138: 5, 216: 5, 257: 5, 227: 5, 393: 5, 421: 5, 229: 5, 510: 5, 395: 5, 538: 5}\n"
          ],
          "name": "stdout"
        }
      ]
    },
    {
      "metadata": {
        "id": "ix18G1rqyxri",
        "colab_type": "code",
        "colab": {}
      },
      "cell_type": "code",
      "source": [
        "#slownik przyklad :\n",
        "# class_weight = {0: 1.,\n",
        "#                 1: 50.,\n",
        "#                 2: 2.}\n",
        "\n"
      ],
      "execution_count": 0,
      "outputs": []
    },
    {
      "metadata": {
        "id": "t3aipXpRcVpU",
        "colab_type": "code",
        "colab": {
          "base_uri": "https://localhost:8080/",
          "height": 91
        },
        "outputId": "c9ff05ab-312e-4a73-a953-43054ef0ff86"
      },
      "cell_type": "code",
      "source": [
        "def count_fail_to_pass_ratio(refy):\n",
        "  failCount = 0\n",
        "  passCount = 0\n",
        "  failBuildCount = 0\n",
        "\n",
        "  for a in y:\n",
        "    if a[np.argmin(a)] == 0 : failBuildCount += 1\n",
        "  print (\"To training were used data : \")\n",
        "  print (\"failed builds: \", failBuildCount)\n",
        "  passed_builds = len(refy) - failBuildCount\n",
        "  print('passed builds: ', passed_builds)\n",
        "  print (\"failed to passed  ratio: \", failBuildCount / passed_builds * 100, '%', sep='')\n",
        "  \n",
        "  \n",
        "count_fail_to_pass_ratio(yReduced)\n",
        "  \n",
        "\n",
        "  \n",
        "  "
      ],
      "execution_count": 17,
      "outputs": [
        {
          "output_type": "stream",
          "text": [
            "To training were used data : \n",
            "failed builds:  632\n",
            "passed builds:  42\n",
            "failed to passed  ratio: 1504.7619047619048%\n"
          ],
          "name": "stdout"
        }
      ]
    },
    {
      "metadata": {
        "id": "PmKhHbI4R_sN",
        "colab_type": "text"
      },
      "cell_type": "markdown",
      "source": [
        "\n",
        "\n",
        "---\n",
        "\n",
        "\n",
        "\n",
        "---\n",
        "\n",
        "\n",
        "\n",
        "---\n",
        "\n"
      ]
    },
    {
      "metadata": {
        "id": "ivhO-gnUSEQP",
        "colab_type": "text"
      },
      "cell_type": "markdown",
      "source": [
        "## PREPARE MODEL"
      ]
    },
    {
      "metadata": {
        "id": "vPRrHzYvypom",
        "colab_type": "code",
        "colab": {}
      },
      "cell_type": "code",
      "source": [
        ""
      ],
      "execution_count": 0,
      "outputs": []
    },
    {
      "metadata": {
        "id": "1fduCyvWnRv0",
        "colab_type": "code",
        "colab": {}
      },
      "cell_type": "code",
      "source": [
        "import keras\n",
        "from keras.models import Sequential\n",
        "from keras.layers import Dense\n",
        "#12140\n",
        "model = Sequential()\n",
        "# Adding the input layer and the first hidden layer\n",
        "model.add(Dense(6070, activation=\"sigmoid\", input_dim=23739, kernel_initializer=\"uniform\")) # TRY smaller input_dim value or less neurons\n",
        "# Adding the second hidden layer\n",
        "#model.add(Dense(12140, activation = \"sigmoid\", kernel_initializer=\"uniform\"))\n",
        "# Adding the output layer\n",
        "model.add(Dense(542, activation=\"sigmoid\", kernel_initializer=\"uniform\"))"
      ],
      "execution_count": 0,
      "outputs": []
    },
    {
      "metadata": {
        "id": "c76W8TAQRpQs",
        "colab_type": "code",
        "outputId": "e7f74ec6-8c84-4fc8-cc09-51229950bdbd",
        "colab": {
          "base_uri": "https://localhost:8080/",
          "height": 590
        }
      },
      "cell_type": "code",
      "source": [
        "model.compile(optimizer = 'adam', loss = 'binary_crossentropy', metrics = ['accuracy'])\n",
        "# \n",
        "model.fit(xTrain, yTrain, batch_size = 20, epochs = 15)\n",
        "# model.fit(xTrain, yTrain, batch_size = 20, epochs = 15, class_weight=class_weights)"
      ],
      "execution_count": 33,
      "outputs": [
        {
          "output_type": "stream",
          "text": [
            "Epoch 1/15\n",
            "539/539 [==============================] - 8s 15ms/step - loss: 0.0627 - acc: 0.9785\n",
            "Epoch 2/15\n",
            "539/539 [==============================] - 5s 9ms/step - loss: 0.0255 - acc: 0.9974\n",
            "Epoch 3/15\n",
            "539/539 [==============================] - 5s 9ms/step - loss: 0.0208 - acc: 0.9974\n",
            "Epoch 4/15\n",
            "539/539 [==============================] - 5s 9ms/step - loss: 0.0188 - acc: 0.9975\n",
            "Epoch 5/15\n",
            "539/539 [==============================] - 5s 9ms/step - loss: 0.0172 - acc: 0.9976\n",
            "Epoch 6/15\n",
            "539/539 [==============================] - 5s 9ms/step - loss: 0.0165 - acc: 0.9977\n",
            "Epoch 7/15\n",
            "539/539 [==============================] - 5s 9ms/step - loss: 0.0159 - acc: 0.9977\n",
            "Epoch 8/15\n",
            "539/539 [==============================] - 5s 9ms/step - loss: 0.0155 - acc: 0.9978\n",
            "Epoch 9/15\n",
            "539/539 [==============================] - 5s 9ms/step - loss: 0.0152 - acc: 0.9978\n",
            "Epoch 10/15\n",
            "539/539 [==============================] - 5s 9ms/step - loss: 0.0146 - acc: 0.9979\n",
            "Epoch 11/15\n",
            "539/539 [==============================] - 5s 9ms/step - loss: 0.0141 - acc: 0.9980\n",
            "Epoch 12/15\n",
            "539/539 [==============================] - 5s 9ms/step - loss: 0.0144 - acc: 0.9980\n",
            "Epoch 13/15\n",
            "539/539 [==============================] - 5s 9ms/step - loss: 0.0136 - acc: 0.9980\n",
            "Epoch 14/15\n",
            "539/539 [==============================] - 5s 9ms/step - loss: 0.0134 - acc: 0.9980\n",
            "Epoch 15/15\n",
            "539/539 [==============================] - 5s 9ms/step - loss: 0.0134 - acc: 0.9981\n"
          ],
          "name": "stdout"
        },
        {
          "output_type": "execute_result",
          "data": {
            "text/plain": [
              "<keras.callbacks.History at 0x7f3de13e3780>"
            ]
          },
          "metadata": {
            "tags": []
          },
          "execution_count": 33
        }
      ]
    },
    {
      "metadata": {
        "id": "sJY1xTCDSLNI",
        "colab_type": "text"
      },
      "cell_type": "markdown",
      "source": [
        "\n",
        "\n",
        "---\n",
        "\n",
        "\n",
        "\n",
        "---\n",
        "\n",
        "\n",
        "\n",
        "---\n",
        "\n"
      ]
    },
    {
      "metadata": {
        "id": "tzanoRBUSoWo",
        "colab_type": "text"
      },
      "cell_type": "markdown",
      "source": [
        "## **TEST MODEL**"
      ]
    },
    {
      "metadata": {
        "id": "2L3_gtlDY2ve",
        "colab_type": "code",
        "colab": {}
      },
      "cell_type": "code",
      "source": [
        "# lossTest, accTest = model.evaluate(xTest, yTest)\n",
        "\n",
        "# print('Test accuracy:', accTest)\n",
        "# print('Test loss:', lossTest)\n"
      ],
      "execution_count": 0,
      "outputs": []
    },
    {
      "metadata": {
        "id": "80qYJa28rzE0",
        "colab_type": "code",
        "colab": {}
      },
      "cell_type": "code",
      "source": [
        "\n",
        "# predictions = model.predict(xTest)\n",
        "predictions = model.predict(xTest)\n",
        "# print (predictions[0])\n",
        "# print(len(predictions))\n",
        "# print((len(predictions)))\n",
        "\n"
      ],
      "execution_count": 0,
      "outputs": []
    },
    {
      "metadata": {
        "id": "eyPXA2FdW-5T",
        "colab_type": "code",
        "colab": {
          "base_uri": "https://localhost:8080/",
          "height": 376
        },
        "outputId": "58521214-c0c6-4822-c2a4-ebf2af947c0b"
      },
      "cell_type": "code",
      "source": [
        "def create_fake_predictions(quantity_oftests_set_as_failed, quantity_of_predictions):\n",
        "  import random\n",
        "  quantity_of_predictions = len(quantity_of_predictions)\n",
        "  random_matrix_pred = []\n",
        "  stats =  [0 for i in range(542)]\n",
        "  \n",
        "  for row_no in range(quantity_of_predictions):\n",
        "    random_pred_list = [1 for i in range(542)]\n",
        "    random_indexes_list = [random.randint(0,541) for i in range(quantity_oftests_set_as_failed)] # todo usunac powtorzenia \n",
        "    for idx in random_indexes_list:\n",
        "      random_pred_list[idx] = 0\n",
        "      stats[idx] = stats[idx] + 1\n",
        "    random_matrix_pred.append(random_pred_list)\n",
        "\n",
        "# for new concept\n",
        "#   for row_no in range(quantity_of_predictions):\n",
        "#       random_pred_list = [1 for i in range(542)]\n",
        "#       random_indexes_list = random.randint(0,541) # todo usunac powtorzenia \n",
        "#       random_pred_list[random_indexes_list] = 0\n",
        "#       stats[random_indexes_list] = stats[random_indexes_list] + 1\n",
        "#       random_matrix_pred.append(random_pred_list)\n",
        "    \n",
        "  y_pos = range(len(stats))\n",
        "  performance = stats\n",
        "\n",
        "  plt.bar(y_pos, performance, align='center', alpha=0.5)\n",
        "  plt.xticks(y_pos)\n",
        "  plt.ylabel('liczba wybran testu')\n",
        "  plt.xlabel('numer testu')\n",
        "  plt.title('rozklad wybierania testow jako sfailowane')\n",
        "  plt.show()\n",
        "    \n",
        " \n",
        "  random_matrix_pred = np.array(random_matrix_pred)\n",
        "  return random_matrix_pred\n",
        "\n",
        "\n",
        "fake_predictions_matrix = create_fake_predictions(15,xTest) \n"
      ],
      "execution_count": 35,
      "outputs": [
        {
          "output_type": "display_data",
          "data": {
            "image/png": "[encoded data removed]",
            "text/plain": [
              "<matplotlib.figure.Figure at 0x7f3de18b0a58>"
            ]
          },
          "metadata": {
            "tags": []
          }
        }
      ]
    },
    {
      "metadata": {
        "id": "W49QJ91tmKYQ",
        "colab_type": "code",
        "colab": {}
      },
      "cell_type": "code",
      "source": [
        ""
      ],
      "execution_count": 0,
      "outputs": []
    },
    {
      "metadata": {
        "id": "83XWARzS7Zmg",
        "colab_type": "code",
        "outputId": "e92cf9a7-e828-4266-975e-396e3772f7a7",
        "colab": {
          "base_uri": "https://localhost:8080/",
          "height": 705
        }
      },
      "cell_type": "code",
      "source": [
        "#Distributions of argmins through all the predictions\n",
        "distribution_array = count_distribution(predictions)\n",
        "\n",
        "# fake prediction\n",
        "fake_distribution_array = count_distribution(fake_predictions_matrix)\n"
      ],
      "execution_count": 36,
      "outputs": [
        {
          "output_type": "display_data",
          "data": {
            "image/png": "[encoded data removed]",
            "text/plain": [
              "<matplotlib.figure.Figure at 0x7f3de165ad68>"
            ]
          },
          "metadata": {
            "tags": []
          }
        },
        {
          "output_type": "display_data",
          "data": {
            "image/png": "[encoded data removed]",
            "text/plain": [
              "<matplotlib.figure.Figure at 0x7f3de411d128>"
            ]
          },
          "metadata": {
            "tags": []
          }
        }
      ]
    },
    {
      "metadata": {
        "id": "qAUGigqb9KPV",
        "colab_type": "code",
        "colab": {
          "base_uri": "https://localhost:8080/",
          "height": 705
        },
        "outputId": "04a7a4c4-4c5a-4dfa-e75d-f4a79ab53d9e"
      },
      "cell_type": "code",
      "source": [
        "create_plot(range(len(distribution_array)), distribution_array)\n",
        "\n",
        "# fake plot\n",
        "create_plot(range(len(fake_distribution_array)), fake_distribution_array)"
      ],
      "execution_count": 37,
      "outputs": [
        {
          "output_type": "display_data",
          "data": {
            "image/png": "[encoded data removed]",
            "text/plain": [
              "<matplotlib.figure.Figure at 0x7f3de3e5d9b0>"
            ]
          },
          "metadata": {
            "tags": []
          }
        },
        {
          "output_type": "display_data",
          "data": {
            "image/png": "[encoded data removed]",
            "text/plain": [
              "<matplotlib.figure.Figure at 0x7f3de08eb9b0>"
            ]
          },
          "metadata": {
            "tags": []
          }
        }
      ]
    },
    {
      "metadata": {
        "id": "uXLByw_xaeCB",
        "colab_type": "code",
        "colab": {
          "base_uri": "https://localhost:8080/",
          "height": 146
        },
        "outputId": "62aad6bf-1c2a-43ab-f006-f5f6fe1c44b8"
      },
      "cell_type": "code",
      "source": [
        "count_fail_to_pass_ratio(yReduced)\n",
        "evaluation(predictions,15,yTest)\n",
        "# evaluate random prediction\n",
        "print(\"fake prediction: \")\n",
        "evaluation(fake_predictions_matrix, 15, yTest)"
      ],
      "execution_count": 38,
      "outputs": [
        {
          "output_type": "stream",
          "text": [
            "To training were used data : \n",
            "failed builds:  632\n",
            "passed builds:  42\n",
            "failed to passed  ratio: 1504.7619047619048%\n",
            "Percentage of fails predicted 20.812182741116754 %\n",
            "fake prediction: \n",
            "Percentage of fails predicted 4.060913705583756 %\n"
          ],
          "name": "stdout"
        }
      ]
    }
  ]
}